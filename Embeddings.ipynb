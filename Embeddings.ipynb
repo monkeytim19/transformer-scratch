{
  "cells": [
    {
      "cell_type": "markdown",
      "metadata": {
        "id": "tWUoY2Okb8A6"
      },
      "source": [
        "## Regular Transformer Embeddings\n",
        "\n",
        "In transformers, Embedding layers are used for converting the input and output tokens into a vector of dimension ($d_{model}$). The weight matrix of the embedding layer are shared between:\n",
        "\n",
        "\n",
        "1.   Input Embedding\n",
        "2.   Output Embedding\n",
        "3.   Pre-softmax Linear Transformation\n",
        "\n",
        "The output of the embedding layers are multiplied by $\\sqrt{d_{model}}$."
      ]
    },
    {
      "cell_type": "code",
      "execution_count": 1,
      "metadata": {
        "id": "lI0yhiBTcBal"
      },
      "outputs": [],
      "source": [
        "import torch\n",
        "import torch.nn as nn\n",
        "import numpy as np"
      ]
    },
    {
      "cell_type": "code",
      "execution_count": 25,
      "metadata": {},
      "outputs": [],
      "source": [
        "class TransformerEmbedding(nn.Module):\n",
        "    def __init__(self, vocab_size, n_dim):\n",
        "        super().__init__()\n",
        "        self.n_dim = n_dim\n",
        "        self.weights = nn.Parameter(torch.zeros((vocab_size, n_dim)))\n",
        "        nn.init.uniform_(self.weights)\n",
        "\n",
        "    def forward(self, x):\n",
        "        return np.sqrt(self.n_dim) * self.weights[x]"
      ]
    },
    {
      "cell_type": "code",
      "execution_count": 26,
      "metadata": {
        "id": "8CIB7koEh8IQ"
      },
      "outputs": [],
      "source": [
        "embed=TransformerEmbedding(vocab_size=100, n_dim=6)"
      ]
    },
    {
      "cell_type": "code",
      "execution_count": 27,
      "metadata": {
        "id": "ufuICR2GFl4n"
      },
      "outputs": [],
      "source": [
        "# Input: a batch of 3 sentences, each with 4 token IDs\n",
        "token_ids = torch.tensor([\n",
        "    [42, 10, 4, 2],    # First sentence\n",
        "    [8, 76, 15, 2],    # Second sentence\n",
        "    [24, 92, 7, 2]     # Third sentence\n",
        "])\n",
        "\n",
        "# Forward pass through embedding layer\n",
        "embedded_tokens = embed(token_ids)"
      ]
    },
    {
      "cell_type": "code",
      "execution_count": 28,
      "metadata": {
        "colab": {
          "base_uri": "https://localhost:8080/"
        },
        "id": "6cupLMGaNWSv",
        "outputId": "9d0f5b07-9ec3-4156-ba9f-c565ff2c294a"
      },
      "outputs": [
        {
          "data": {
            "text/plain": [
              "torch.Size([3, 4, 6])"
            ]
          },
          "execution_count": 28,
          "metadata": {},
          "output_type": "execute_result"
        }
      ],
      "source": [
        "embedded_tokens.shape"
      ]
    },
    {
      "cell_type": "code",
      "execution_count": 29,
      "metadata": {
        "colab": {
          "base_uri": "https://localhost:8080/"
        },
        "id": "WCeyXLQGic-n",
        "outputId": "89d3ab0a-4fcd-4999-8741-774835412427"
      },
      "outputs": [
        {
          "data": {
            "text/plain": [
              "torch.Size([100, 6])"
            ]
          },
          "execution_count": 29,
          "metadata": {},
          "output_type": "execute_result"
        }
      ],
      "source": [
        "embed.weights.shape"
      ]
    },
    {
      "cell_type": "markdown",
      "metadata": {
        "id": "i3D66satRjTP"
      },
      "source": [
        "The vocabulary has 100 tokens where each token has dimension 6."
      ]
    }
  ],
  "metadata": {
    "colab": {
      "provenance": []
    },
    "kernelspec": {
      "display_name": "venv",
      "language": "python",
      "name": "python3"
    },
    "language_info": {
      "codemirror_mode": {
        "name": "ipython",
        "version": 3
      },
      "file_extension": ".py",
      "mimetype": "text/x-python",
      "name": "python",
      "nbconvert_exporter": "python",
      "pygments_lexer": "ipython3",
      "version": "3.13.0"
    }
  },
  "nbformat": 4,
  "nbformat_minor": 0
}
