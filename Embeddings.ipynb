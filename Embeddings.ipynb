{
  "nbformat": 4,
  "nbformat_minor": 0,
  "metadata": {
    "colab": {
      "provenance": []
    },
    "kernelspec": {
      "name": "python3",
      "display_name": "Python 3"
    },
    "language_info": {
      "name": "python"
    }
  },
  "cells": [
    {
      "cell_type": "markdown",
      "source": [
        "## Regular transformer Embeddings\n",
        "\n",
        "In transformers, Embedding layers are used for converting the input and output tokens into a vector of dimension ($d_{model}$). The weight matrix of the embedding layer are shared between:\n",
        "\n",
        "\n",
        "1.   Input Embedding\n",
        "2.   Output Embedding\n",
        "3.   Pre-softmax Linear Transformation\n",
        "\n",
        "The output of the embedding layers are multiplied by $\\sqrt{d_{model}}$."
      ],
      "metadata": {
        "id": "tWUoY2Okb8A6"
      }
    },
    {
      "cell_type": "code",
      "source": [
        "import torch\n",
        "import torch.nn as nn\n",
        "import numpy as np"
      ],
      "metadata": {
        "id": "lI0yhiBTcBal"
      },
      "execution_count": 1,
      "outputs": []
    },
    {
      "cell_type": "code",
      "execution_count": 2,
      "metadata": {
        "id": "P5QvSe85b5yS"
      },
      "outputs": [],
      "source": [
        "class Embedding(nn.Module):\n",
        "  def __init__(self,num_embeddings, embedding_dim):\n",
        "    super().__init__()\n",
        "    self.embedding_dim=embedding_dim\n",
        "    self.embedding=nn.Embedding(num_embeddings=num_embeddings,\n",
        "                                embedding_dim=embedding_dim)\n",
        "\n",
        "  def forward(self,x):\n",
        "    return np.sqrt(self.embedding_dim)*self.embedding(x)"
      ]
    },
    {
      "cell_type": "code",
      "source": [
        "embed=Embedding(num_embeddings=100, embedding_dim=6)"
      ],
      "metadata": {
        "id": "8CIB7koEh8IQ"
      },
      "execution_count": 3,
      "outputs": []
    },
    {
      "cell_type": "code",
      "source": [
        "# Input: a batch of 3 sentences, each with 4 token IDs\n",
        "token_ids = torch.tensor([\n",
        "    [42, 10, 4, 2],    # First sentence\n",
        "    [8, 76, 15, 2],    # Second sentence\n",
        "    [24, 92, 7, 2]     # Third sentence\n",
        "])\n",
        "\n",
        "# Forward pass through embedding layer\n",
        "embedded_tokens = embed(token_ids)"
      ],
      "metadata": {
        "id": "ufuICR2GFl4n"
      },
      "execution_count": 4,
      "outputs": []
    },
    {
      "cell_type": "code",
      "source": [
        "embedded_tokens.shape"
      ],
      "metadata": {
        "colab": {
          "base_uri": "https://localhost:8080/"
        },
        "id": "6cupLMGaNWSv",
        "outputId": "9d0f5b07-9ec3-4156-ba9f-c565ff2c294a"
      },
      "execution_count": 12,
      "outputs": [
        {
          "output_type": "execute_result",
          "data": {
            "text/plain": [
              "torch.Size([3, 4, 6])"
            ]
          },
          "metadata": {},
          "execution_count": 12
        }
      ]
    },
    {
      "cell_type": "code",
      "source": [
        "embed.embedding.weight.shape"
      ],
      "metadata": {
        "colab": {
          "base_uri": "https://localhost:8080/"
        },
        "id": "WCeyXLQGic-n",
        "outputId": "89d3ab0a-4fcd-4999-8741-774835412427"
      },
      "execution_count": 11,
      "outputs": [
        {
          "output_type": "execute_result",
          "data": {
            "text/plain": [
              "torch.Size([100, 6])"
            ]
          },
          "metadata": {},
          "execution_count": 11
        }
      ]
    },
    {
      "cell_type": "markdown",
      "source": [
        "The vocabulary has 100 tokens where each token has dimension 6."
      ],
      "metadata": {
        "id": "i3D66satRjTP"
      }
    }
  ]
}