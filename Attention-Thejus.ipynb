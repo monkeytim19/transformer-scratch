{
 "cells": [
  {
   "cell_type": "code",
   "execution_count": 1,
   "id": "27d215a3",
   "metadata": {},
   "outputs": [],
   "source": [
    "import torch\n",
    "import torch.nn as nn\n",
    "import math"
   ]
  },
  {
   "cell_type": "code",
   "execution_count": 26,
   "id": "7c397a7d",
   "metadata": {},
   "outputs": [],
   "source": [
    "class SelfAttention(nn.Module):\n",
    "    def __init__(self,query_shape,key_shape,value_shape, model_size=512):\n",
    "        super().__init__()\n",
    "        self.d_q= query_shape[-1]\n",
    "        self.d_k = key_shape[-1]\n",
    "        self.d_v = value_shape[-1]\n",
    "        self.model_size = model_size\n",
    "       \n",
    "        self.softmax = nn.Softmax(dim=-1)\n",
    "\n",
    "    def forward(self, query, key, value, attention_mask=None):\n",
    "        \n",
    "        query_key=torch.matmul(query, key.transpose(-2,-1))/math.sqrt(self.d_k)\n",
    "        if attention_mask is not None:\n",
    "            query_key = query_key.masked_fill(attention_mask.bool(), -torch.inf)\n",
    "       \n",
    "        attention = torch.matmul(self.softmax(query_key), value)\n",
    "        return attention"
   ]
  },
  {
   "cell_type": "code",
   "execution_count": 32,
   "id": "5e21497e",
   "metadata": {},
   "outputs": [],
   "source": [
    "attn = SelfAttention(query.shape, key.shape, value.shape)\n",
    "output = attn(query, query, query)"
   ]
  },
  {
   "cell_type": "code",
   "execution_count": 35,
   "id": "b86f85d6",
   "metadata": {},
   "outputs": [
    {
     "data": {
      "text/plain": [
       "tensor([[[ 2.0064,  0.2102,  0.8838,  ...,  0.0970,  0.6234, -1.1400],\n",
       "         [-0.0885, -1.0831,  1.2557,  ..., -1.1865, -1.3762, -1.3190],\n",
       "         [-0.1477,  0.5764, -0.0053,  ...,  1.2574,  1.0753, -0.3646]],\n",
       "\n",
       "        [[ 1.7582,  0.0844, -1.0347,  ..., -1.9086,  0.8512,  0.2577],\n",
       "         [ 1.1745,  0.5628,  0.5414,  ...,  1.1986, -0.5605,  0.3247],\n",
       "         [-0.4274, -0.3267, -0.6601,  ...,  0.0339,  1.0798,  0.9191]]])"
      ]
     },
     "execution_count": 35,
     "metadata": {},
     "output_type": "execute_result"
    }
   ],
   "source": [
    "output"
   ]
  },
  {
   "cell_type": "code",
   "execution_count": 36,
   "id": "b6556922",
   "metadata": {},
   "outputs": [],
   "source": [
    "class Attention(nn.Module):\n",
    "    def __init__(self,query_shape,key_shape,value_shape, model_size=512):\n",
    "        super().__init__()\n",
    "        self.d_q= query_shape[-1]\n",
    "        self.d_k = key_shape[-1]\n",
    "        self.d_v = value_shape[-1]\n",
    "        self.model_size = model_size\n",
    "        self.W_q= nn.Parameter(torch.nn.init.xavier_uniform_(torch.empty((self.model_size, self.d_q))))\n",
    "        self.W_k= nn.Parameter(torch.nn.init.xavier_uniform_(torch.empty((self.model_size, self.d_k))))\n",
    "        self.W_v= nn.Parameter(torch.nn.init.xavier_uniform_(torch.empty((self.model_size, self.d_v))))\n",
    "        \n",
    "        self.softmax = nn.Softmax(dim=-1)\n",
    "\n",
    "    def forward(self, query, key, value, attention_mask=None):\n",
    "        query_t = torch.matmul(query, self.W_q)\n",
    "        key_t = torch.matmul(key, self.W_k)\n",
    "        value_t = torch.matmul(value, self.W_v)\n",
    "        \n",
    "        query_key=torch.matmul(query_t, key_t.transpose(-2,-1))/math.sqrt(self.d_k)\n",
    "        if attention_mask is not None:\n",
    "            query_key = query_key.masked_fill(attention_mask.bool(), -torch.inf)\n",
    "       \n",
    "        attention = torch.matmul(self.softmax(query_key), value_t)\n",
    "        return attention"
   ]
  },
  {
   "cell_type": "code",
   "execution_count": 37,
   "id": "1bb61854",
   "metadata": {},
   "outputs": [],
   "source": [
    "query = torch.randn(2, 3, 512)  # Example query tensor\n",
    "key = torch.randn(2, 3, 512)    # Example key tensor \n",
    "value = torch.randn(2, 3, 512)  # Example value tensor"
   ]
  },
  {
   "cell_type": "code",
   "execution_count": 42,
   "id": "c33fd997",
   "metadata": {},
   "outputs": [],
   "source": [
    "attn = Attention(query.shape, key.shape, value.shape)\n",
    "output = attn(query, query, query)"
   ]
  },
  {
   "cell_type": "code",
   "execution_count": 43,
   "id": "6aecc745",
   "metadata": {},
   "outputs": [
    {
     "data": {
      "text/plain": [
       "tensor([[[ 0.5517, -0.2130,  0.1068,  ..., -0.0675,  0.0676, -0.3287],\n",
       "         [ 0.5630, -0.2621,  0.1051,  ...,  0.0772,  0.0251, -0.2169],\n",
       "         [ 0.1573,  0.1718,  0.3963,  ...,  0.3809,  0.1841, -0.5546]],\n",
       "\n",
       "        [[-0.3631, -0.9195, -0.4250,  ...,  0.3630,  0.0185, -0.4522],\n",
       "         [ 0.3783, -0.2530, -0.7024,  ..., -0.2203,  0.5756, -0.1280],\n",
       "         [-0.1998, -0.4986, -0.5135,  ...,  0.0769, -0.4642,  1.2835]]],\n",
       "       grad_fn=<UnsafeViewBackward0>)"
      ]
     },
     "execution_count": 43,
     "metadata": {},
     "output_type": "execute_result"
    }
   ],
   "source": [
    "output"
   ]
  },
  {
   "cell_type": "code",
   "execution_count": 38,
   "id": "a9dd149a",
   "metadata": {},
   "outputs": [],
   "source": [
    "class MultiHeadAttention(nn.Module):\n",
    "    def __init__(self, query_shape,key_shape,value_shape, head_count, model_size=512):\n",
    "        super().__init__()\n",
    "        self.head_count = head_count\n",
    "        self.model_size = model_size\n",
    "        self.query_shape = query_shape\n",
    "        self.key_shape = key_shape\n",
    "        \n",
    "        self.value_shape = value_shape\n",
    "        self.W_O = nn.Parameter(nn.init.xavier_uniform_(torch.empty(self.head_count*self.value_shape[-1],self.model_size)))\n",
    "\n",
    "        self.heads = [ Attention(self.query_shape, self.key_shape, self.value_shape, self.model_size) for _ in range(self.head_count)]\n",
    "\n",
    "    def forward(self, query, key, value):\n",
    "        mh_p1=torch.cat([head(query, key, value) for head in self.heads],-1)\n",
    "        mh_p2 = torch.matmul(mh_p1, self.W_O)\n",
    "        return mh_p2"
   ]
  },
  {
   "cell_type": "code",
   "execution_count": 39,
   "id": "06b9a741",
   "metadata": {},
   "outputs": [],
   "source": [
    "attn = MultiHeadAttention(query.shape, key.shape, value.shape, model_size=512, head_count=8)"
   ]
  },
  {
   "cell_type": "code",
   "execution_count": 40,
   "id": "cd867262",
   "metadata": {},
   "outputs": [],
   "source": [
    "multi_head=attn(query, key, value)"
   ]
  },
  {
   "cell_type": "code",
   "execution_count": 41,
   "id": "b850196d",
   "metadata": {},
   "outputs": [
    {
     "data": {
      "text/plain": [
       "tensor([[[-6.0698e-01, -3.3274e-01, -3.5579e-01,  ..., -1.9445e+00,\n",
       "           1.0646e+00, -7.4402e-01],\n",
       "         [-7.5650e-01, -4.9202e-01, -2.3502e-01,  ..., -1.5646e+00,\n",
       "           6.3224e-01, -9.9018e-01],\n",
       "         [-6.9253e-01, -5.1152e-02, -3.8043e-01,  ..., -1.2231e+00,\n",
       "           6.1537e-01, -6.1394e-01]],\n",
       "\n",
       "        [[ 5.3048e-01, -5.9201e-01, -6.9080e-01,  ..., -1.1865e+00,\n",
       "           5.9823e-01, -6.3175e-01],\n",
       "         [ 1.7772e-01,  4.1436e-01, -6.5130e-01,  ...,  7.5560e-01,\n",
       "          -7.4086e-02,  8.8687e-01],\n",
       "         [-7.3537e-01, -1.7250e-01, -7.4415e-01,  ..., -7.9224e-04,\n",
       "          -4.8310e-01,  6.0002e-02]]], grad_fn=<UnsafeViewBackward0>)"
      ]
     },
     "execution_count": 41,
     "metadata": {},
     "output_type": "execute_result"
    }
   ],
   "source": [
    "multi_head"
   ]
  },
  {
   "cell_type": "code",
   "execution_count": 25,
   "id": "d500a142",
   "metadata": {},
   "outputs": [
    {
     "data": {
      "text/plain": [
       "torch.Size([2, 3, 512])"
      ]
     },
     "execution_count": 25,
     "metadata": {},
     "output_type": "execute_result"
    }
   ],
   "source": [
    "multi_head.shape"
   ]
  }
 ],
 "metadata": {
  "kernelspec": {
   "display_name": "mlp",
   "language": "python",
   "name": "python3"
  },
  "language_info": {
   "codemirror_mode": {
    "name": "ipython",
    "version": 3
   },
   "file_extension": ".py",
   "mimetype": "text/x-python",
   "name": "python",
   "nbconvert_exporter": "python",
   "pygments_lexer": "ipython3",
   "version": "3.11.5"
  }
 },
 "nbformat": 4,
 "nbformat_minor": 5
}
